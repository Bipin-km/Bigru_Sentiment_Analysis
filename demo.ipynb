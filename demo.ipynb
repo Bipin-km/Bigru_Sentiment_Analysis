{
 "cells": [
  {
   "cell_type": "code",
   "execution_count": 1,
   "metadata": {},
   "outputs": [],
   "source": [
    "from tokenizers import ByteLevelBPETokenizer\n",
    "from tensorflow.keras.preprocessing.sequence import pad_sequences\n",
    "import tensorflow as tf"
   ]
  },
  {
   "cell_type": "code",
   "execution_count": 2,
   "metadata": {},
   "outputs": [],
   "source": [
    "tokenizer = ByteLevelBPETokenizer.from_file(\n",
    "    vocab_filename='./tokenizer/vocab.json', \n",
    "    merges_filename='./tokenizer/merges.txt')"
   ]
  },
  {
   "cell_type": "code",
   "execution_count": 12,
   "metadata": {},
   "outputs": [
    {
     "name": "stderr",
     "output_type": "stream",
     "text": [
      "WARNING:absl:Compiled the loaded model, but the compiled metrics have yet to be built. `model.compile_metrics` will be empty until you train or evaluate the model.\n"
     ]
    }
   ],
   "source": [
    "model = tf.keras.models.load_model(\"./model_96.h5\")"
   ]
  },
  {
   "cell_type": "code",
   "execution_count": 5,
   "metadata": {},
   "outputs": [],
   "source": [
    "# Function to preprocess and predict sentiment for a custom review\n",
    "def predict_sentiment(review):\n",
    "    # Tokenize the review\n",
    "    review_sequence = tokenizer.encode(review).ids\n",
    "    \n",
    "    # Pad the sequence\n",
    "    max_length = 170  # Maximum sequence length\n",
    "    pad_token_id = tokenizer.token_to_id(\"<pad>\")\n",
    "    review_padded = pad_sequences([review_sequence], maxlen=max_length, padding=\"post\", value=pad_token_id)\n",
    "\n",
    "    # Predict sentiment\n",
    "    prediction = model.predict(review_padded)\n",
    "    \n",
    "    # Determine sentiment based on prediction\n",
    "    sentiment = \"Positive\" if prediction[0][0] > 0.44 else \"Negative\"\n",
    "    \n",
    "    return sentiment, prediction\n"
   ]
  },
  {
   "cell_type": "code",
   "execution_count": 13,
   "metadata": {},
   "outputs": [
    {
     "name": "stdout",
     "output_type": "stream",
     "text": [
      "\u001b[1m1/1\u001b[0m \u001b[32m━━━━━━━━━━━━━━━━━━━━\u001b[0m\u001b[37m\u001b[0m \u001b[1m1s\u001b[0m 1s/step\n",
      "Custom Review Sentiment: Positive, Prediction Score: 0.9470\n"
     ]
    }
   ],
   "source": [
    "# Test with a custom review\n",
    "custom_review = \"Others seem to like it. But i love it too.\"\n",
    "sentiment, prediction = predict_sentiment(custom_review)\n",
    "print(f\"Custom Review Sentiment: {sentiment}, Prediction Score: {prediction[0][0]:.4f}\")"
   ]
  }
 ],
 "metadata": {
  "kernelspec": {
   "display_name": "Bigru_Sentiment_Analysis",
   "language": "python",
   "name": "python3"
  },
  "language_info": {
   "codemirror_mode": {
    "name": "ipython",
    "version": 3
   },
   "file_extension": ".py",
   "mimetype": "text/x-python",
   "name": "python",
   "nbconvert_exporter": "python",
   "pygments_lexer": "ipython3",
   "version": "3.12.8"
  }
 },
 "nbformat": 4,
 "nbformat_minor": 2
}
